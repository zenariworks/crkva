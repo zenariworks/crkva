{
 "cells": [
  {
   "cell_type": "code",
   "execution_count": 5,
   "metadata": {},
   "outputs": [
    {
     "data": {
      "text/plain": [
       "'test_weasyprint.pdf'"
      ]
     },
     "execution_count": 5,
     "metadata": {},
     "output_type": "execute_result"
    }
   ],
   "source": [
    "import os\n",
    "from weasyprint import HTML\n",
    "\n",
    "# Get the absolute path of the image\n",
    "current_dir = os.getcwd()\n",
    "image_path = os.path.join(current_dir, 'krstenica-nova.jpg')\n",
    "\n",
    "html_content = f\"\"\"\n",
    "<!DOCTYPE html>\n",
    "<html>\n",
    "<head>\n",
    "    <style>\n",
    "        body {{\n",
    "            width: 210mm;\n",
    "            height: 297mm;\n",
    "            margin: 0;\n",
    "            padding: 0;\n",
    "            background-image: url('file://{image_path}');\n",
    "            background-size: cover;\n",
    "        }}\n",
    "        @page {{\n",
    "            size: A4;\n",
    "            margin: 0;\n",
    "        }}\n",
    "    </style>\n",
    "</head>\n",
    "<body>\n",
    "    <h1>This is a test PDF with a background image</h1>\n",
    "</body>\n",
    "</html>\n",
    "\"\"\"\n",
    "\n",
    "\n",
    "# Generate PDF from HTML\n",
    "pdf = HTML(string=html_content).write_pdf()\n",
    "\n",
    "# Save PDF to a file\n",
    "output_path = 'test_weasyprint.pdf'\n",
    "with open(output_path, 'wb') as f:\n",
    "    f.write(pdf)\n",
    "\n",
    "output_path\n",
    "\n"
   ]
  },
  {
   "cell_type": "code",
   "execution_count": null,
   "metadata": {},
   "outputs": [],
   "source": []
  }
 ],
 "metadata": {
  "kernelspec": {
   "display_name": "crkva",
   "language": "python",
   "name": "python3"
  },
  "language_info": {
   "codemirror_mode": {
    "name": "ipython",
    "version": 3
   },
   "file_extension": ".py",
   "mimetype": "text/x-python",
   "name": "python",
   "nbconvert_exporter": "python",
   "pygments_lexer": "ipython3",
   "version": "3.10.13"
  }
 },
 "nbformat": 4,
 "nbformat_minor": 2
}
